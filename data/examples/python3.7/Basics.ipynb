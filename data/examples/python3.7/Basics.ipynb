{
 "cells": [
  {
   "cell_type": "markdown",
   "metadata": {
    "button": false,
    "deletable": true,
    "run_control": {
     "read_only": false
    }
   },
   "source": [
    "# Pineapple - The Basics\n",
    "\n",
    "Welcome to _Pineapple_, a graphical interface to Python based on Jupyter/IPython. Pineapple lets you organize your code into an executable notebook format that supports code, text, mathematical expressions, inline plots, and other media.\n",
    "\n",
    "## Why a notebook?\n",
    "\n",
    "The notebook format for writing code brings many advantages.\n",
    "- Mix code and explanation of what you are doing\n",
    "- See your code with syntax highlighting\n",
    "- Evaluate specific parts of code as many times as needed without restarting\n",
    "- Graphical display of results\n",
    "- Code and results are organized together"
   ]
  },
  {
   "cell_type": "markdown",
   "metadata": {
    "button": false,
    "deletable": true,
    "run_control": {
     "read_only": false
    }
   },
   "source": [
    "## Cells\n",
    "\n",
    "A _cell_ in Pineapple is a single block in the notebook. Cells can be different types:\n",
    "- Code (Python)\n",
    "- Text (Markdown) "
   ]
  },
  {
   "cell_type": "code",
   "execution_count": 1,
   "metadata": {
    "button": false,
    "collapsed": false,
    "deletable": true,
    "run_control": {
     "read_only": false
    }
   },
   "outputs": [
    {
     "data": {
      "text/plain": [
       "4"
      ]
     },
     "execution_count": 1,
     "metadata": {},
     "output_type": "execute_result"
    }
   ],
   "source": [
    "# This is Python code in this cell.\n",
    "# You can evaluate a cell by pressing Shift-Return\n",
    "# when your cursor is in the cell.\n",
    "2+2"
   ]
  },
  {
   "cell_type": "code",
   "execution_count": 2,
   "metadata": {
    "button": false,
    "collapsed": false,
    "deletable": true,
    "run_control": {
     "read_only": false
    }
   },
   "outputs": [
    {
     "data": {
      "text/plain": [
       "15"
      ]
     },
     "execution_count": 2,
     "metadata": {},
     "output_type": "execute_result"
    }
   ],
   "source": [
    "# You can also do normal Python things\n",
    "def f(x):\n",
    "    return x + 5\n",
    "f(10)"
   ]
  },
  {
   "cell_type": "markdown",
   "metadata": {
    "button": false,
    "deletable": true,
    "run_control": {
     "read_only": false
    }
   },
   "source": [
    "Notice that the value of the last expression is shows in the output part of the cell. Sometimes you don't want any values. In that case you can use a semicolon at the end."
   ]
  },
  {
   "cell_type": "code",
   "execution_count": 3,
   "metadata": {
    "button": false,
    "collapsed": true,
    "deletable": true,
    "run_control": {
     "read_only": false
    }
   },
   "outputs": [],
   "source": [
    "f(10);"
   ]
  },
  {
   "cell_type": "markdown",
   "metadata": {
    "button": false,
    "deletable": true,
    "run_control": {
     "read_only": false
    }
   },
   "source": [
    "You should also notice that the definition of `f` is still active. Even though you might have many code cells, there is just one session with Python per notebook called a kernel."
   ]
  },
  {
   "cell_type": "code",
   "execution_count": 4,
   "metadata": {
    "button": false,
    "collapsed": false,
    "deletable": true,
    "run_control": {
     "read_only": false
    }
   },
   "outputs": [
    {
     "data": {
      "text/plain": [
       "5"
      ]
     },
     "execution_count": 4,
     "metadata": {},
     "output_type": "execute_result"
    }
   ],
   "source": [
    "f(0)"
   ]
  },
  {
   "cell_type": "markdown",
   "metadata": {
    "button": false,
    "deletable": true,
    "run_control": {
     "read_only": false
    }
   },
   "source": [
    "To help you keep track of the current Python state, each Python cell has a number next to the `In[]` and `Out[]` sections. As you execute cells you will see the numbers increase.\n",
    "\n",
    "## Evaluating Cells\n",
    "\n",
    "| Keys | Action |\n",
    "| ---- | ------ |\n",
    "| <kbd><span class=\"symbol\">⇧</span> Shift</kbd> + <kbd>Return <span class=\"symbol\">⏎</span></kbd> | Evaluate cell and move cursor down |\n",
    "| <kbd><span class=\"symbol\">⌘</span></kbd> + <kbd>Return <span class=\"symbol\">⏎</span></kbd> | Evaluate cell with no cursor movement |\n",
    "|  <kbd><span class=\"symbol\">⇧</span> Shift</kbd> + <kbd><span class=\"symbol\">⌘</span></kbd> + <kbd>Return <span class=\"symbol\">⏎</span></kbd> | Evaluate all cells in order |\n"
   ]
  },
  {
   "cell_type": "markdown",
   "metadata": {
    "button": false,
    "deletable": true,
    "run_control": {
     "read_only": false
    }
   },
   "source": [
    "## Interrupting\n",
    "\n",
    "If a computation is taking too long, or seems to be stuck in an infinite loop, you can interrupt the computation using <kbd><span class=\"symbol\">⌘</span></kbd> + <kbd>I</kbd>.\n",
    "\n",
    "Here is an example that artificially takes a few seconds to finish. Try evaluating the cell. You should see the `In[]` number change to the busy symbol `*`. If you're impatient, press <kbd><span class=\"symbol\">⌘</span></kbd> + <kbd>I</kbd> and see what happens."
   ]
  },
  {
   "cell_type": "code",
   "execution_count": 5,
   "metadata": {
    "button": false,
    "collapsed": false,
    "deletable": true,
    "run_control": {
     "read_only": false
    }
   },
   "outputs": [
    {
     "data": {
      "text/plain": [
       "4"
      ]
     },
     "execution_count": 5,
     "metadata": {},
     "output_type": "execute_result"
    }
   ],
   "source": [
    "from time import sleep\n",
    "sleep(5)\n",
    "2+2"
   ]
  },
  {
   "cell_type": "markdown",
   "metadata": {
    "button": false,
    "deletable": true,
    "run_control": {
     "read_only": false
    }
   },
   "source": [
    "## Restarting\n",
    "\n",
    "Interrupting evaluation just stops computation. It does not reset the state of the Python interpreter. You can restart the Python interpreter from a blank slate through the menu option `Kernel - Restart` or by pressing <kbd><span class=\"symbol\">⌘</span></kbd> + <kbd>0</kbd>. Any variables you have saved or functions defined will be forgotten.\n",
    "\n",
    "Try restarting the kernel then evaluating the function call. You should see an error because `f` is no longer defined."
   ]
  },
  {
   "cell_type": "code",
   "execution_count": 1,
   "metadata": {
    "button": false,
    "collapsed": false,
    "deletable": true,
    "run_control": {
     "read_only": false
    }
   },
   "outputs": [
    {
     "ename": "NameError",
     "evalue": "name 'f' is not defined",
     "output_type": "error",
     "traceback": [
      "\u001b[1;31m---------------------------------------------------------------------------\u001b[0m",
      "\u001b[1;31mNameError\u001b[0m                                 Traceback (most recent call last)",
      "\u001b[1;32m<ipython-input-1-1d80298e1adf>\u001b[0m in \u001b[0;36m<module>\u001b[1;34m()\u001b[0m\n\u001b[1;32m----> 1\u001b[1;33m \u001b[0mf\u001b[0m\u001b[1;33m(\u001b[0m\u001b[1;36m3\u001b[0m\u001b[1;33m)\u001b[0m\u001b[1;33m\u001b[0m\u001b[0m\n\u001b[0m",
      "\u001b[1;31mNameError\u001b[0m: name 'f' is not defined"
     ]
    }
   ],
   "source": [
    "f(3)"
   ]
  },
  {
   "cell_type": "markdown",
   "metadata": {
    "button": false,
    "deletable": true,
    "run_control": {
     "read_only": false
    }
   },
   "source": [
    "## File Operations\n",
    "\n",
    "Notebooks are files saved in a special text format with the extension `.ipynb`. The standard menu options such as `New`, `Open`, `Save`, and `Save As` should work as you expect.\n",
    "\n",
    "__Note__ Pineapple autosaves changes to files as you work. If you want to keep an original copy of your notebook, after opening your document immediately do `Save As` with a new name so your original version is not changed.\n",
    "\n",
    "New files are named `Untitled.ipynb` by default and saved in your `Documents` directory.\n",
    "\n",
    "You can double-click `.ipynb` files from Finder to open them in Pineapple.\n",
    "\n",
    "Do not open the same file multiple times in different Pineapple windows; changes in the different windows will conflict and you may lose work."
   ]
  },
  {
   "cell_type": "markdown",
   "metadata": {
    "button": false,
    "deletable": true,
    "run_control": {
     "read_only": false
    }
   },
   "source": [
    "## Export\n",
    "\n",
    "Notebooks can be exported using Pineapple into the following formats.\n",
    "\n",
    "__Python__ <br />\n",
    "Output is a `.py` Python script. Code cells become Python code in the script, output and text cells become comments in the code.\n",
    "\n",
    "__HTML__ <br />\n",
    "This creates a single `.html` file that can be opened in a web browser\n",
    "to view the notebook. Note that notebooks opened from the file are not\n",
    "interactive.\n",
    "\n",
    "__Markdown__ <br />\n",
    "This creates either a single `.md` Markdown text file, or a `.zip` archive\n",
    "containing the Markdown file together with other resources needed to display\n",
    "the page (e.g. images in output cells). In the Markdown text, input code\n",
    "blocks are indicated using explicit backticks, output code is indicated\n",
    "using indentation."
   ]
  },
  {
   "cell_type": "markdown",
   "metadata": {
    "button": false,
    "deletable": true,
    "run_control": {
     "read_only": false
    }
   },
   "source": [
    "----"
   ]
  }
 ],
 "metadata": {
  "kernelspec": {
   "display_name": "Python 3",
   "language": "python",
   "name": "python3"
  },
  "language_info": {
   "codemirror_mode": {
    "name": "ipython",
    "version": 3
   },
   "file_extension": ".py",
   "mimetype": "text/x-python",
   "name": "python",
   "nbconvert_exporter": "python",
   "pygments_lexer": "ipython3",
   "version": "3.5.0"
  }
 },
 "nbformat": 4,
 "nbformat_minor": 0
}
