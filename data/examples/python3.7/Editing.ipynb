{
 "cells": [
  {
   "cell_type": "markdown",
   "metadata": {
    "button": false,
    "deletable": true,
    "run_control": {
     "read_only": false
    }
   },
   "source": [
    "# Editing\n",
    "\n",
    "## Modal Editor\n",
    "\n",
    "The notebook interface is a _modal editor_. The keyboard does different\n",
    "things depending on what mode the notebook is in.\n",
    "\n",
    "There are two modes: _edit mode_ and _command mode_."
   ]
  },
  {
   "cell_type": "markdown",
   "metadata": {
    "button": false,
    "deletable": true,
    "run_control": {
     "read_only": false
    }
   },
   "source": [
    "### Edit mode\n",
    "\n",
    "When you click inside the input area of a cell you enter _edit mode_. This is indicated visually by a shadowed box surrounding your cell. While in edit mode\n",
    "you type text normally into the cell. Many keyboard shortcuts are disabled.\n",
    "\n",
    "You can enter edit mode from command mode by pressing <kbd>Return <span class=\"symbol\">⏎</span></kbd> from command mode, or by clicking inside\n",
    "the input area with the mouse pointer.\n",
    "\n",
    "### Command mode\n",
    "\n",
    "In _command mode_ there is a simple dark outline of the cell. While in command\n",
    "mode you can quickly perform many operations with a single keystroke.\n",
    "\n",
    "You can enter command mode from edit mode by pressing <kbd>Esc</kbd>, or by\n",
    "clicking on the cell outside the input area with the mouse pointer."
   ]
  },
  {
   "cell_type": "markdown",
   "metadata": {
    "button": false,
    "deletable": true,
    "run_control": {
     "read_only": false
    }
   },
   "source": [
    "## Key Commands\n",
    "\n",
    "Many key bindings work no matter which mode you are in.\n",
    "\n",
    "### General (all modes)\n",
    "\n",
    "<kbd><span class=\"symbol\">⌘</span></kbd> + <kbd>N</kbd>: new notebook\n",
    "\n",
    "<kbd><span class=\"symbol\">⌘</span></kbd> + <kbd>O</kbd>: open\n",
    "\n",
    "<kbd><span class=\"symbol\">⌘</span></kbd> + <kbd>S</kbd>: save\n",
    "\n",
    "<kbd><span class=\"symbol\">⇧</span> Shift</kbd> + <kbd><span class=\"symbol\">⌘</span></kbd> + <kbd>S</kbd>: save as\n",
    "\n",
    "<kbd><span class=\"symbol\">⌘</span></kbd> + <kbd>W</kbd>: close\n",
    "\n",
    "<kbd><span class=\"symbol\">⌘</span></kbd> + <kbd>Q</kbd>: quit\n",
    "\n",
    "<kbd><span class=\"symbol\">⌘</span></kbd> + <kbd>I</kbd>: interrupt kernel\n",
    "\n",
    "<kbd><span class=\"symbol\">⌘</span></kbd> + <kbd>0</kbd>: restart kernel\n",
    "\n",
    "<kbd><span class=\"symbol\">⌘</span></kbd> + <kbd>=</kbd>: insert cell below"
   ]
  },
  {
   "cell_type": "markdown",
   "metadata": {
    "button": false,
    "deletable": true,
    "run_control": {
     "read_only": false
    }
   },
   "source": [
    "<kbd><span class=\"symbol\">⇧</span> Shift</kbd> + <kbd><span class=\"symbol\">⌘</span></kbd> + <kbd>D</kbd>: delete cell\n",
    "\n",
    "<kbd><span class=\"symbol\">⇧</span> Shift</kbd> + <kbd><span class=\"symbol\">⌘</span></kbd> + <kbd>O</kbd>: move cell up\n",
    "\n",
    "<kbd><span class=\"symbol\">⇧</span> Shift</kbd> + <kbd><span class=\"symbol\">⌘</span></kbd> + <kbd>L</kbd>: move cell down\n",
    "\n",
    "<kbd><span class=\"symbol\">⇧</span> Shift</kbd> + <kbd>Return <span class=\"symbol\">⏎</span></kbd>: evaluate cell and move cursor down\n",
    "\n",
    "<kbd><span class=\"symbol\">⌘</span></kbd> + <kbd>Return <span class=\"symbol\">⏎</span></kbd>: evaluate cell with no cursor movement\n",
    "\n",
    "<kbd>Option</kbd> + <kbd>Return <span class=\"symbol\">⏎</span></kbd>: evaluate cell and insert new cell below\n",
    "\n",
    "<kbd><span class=\"symbol\">⇧</span> Shift</kbd> + <kbd><span class=\"symbol\">⌘</span></kbd> + <kbd>X</kbd>: cut cell\n",
    "\n",
    "<kbd><span class=\"symbol\">⇧</span> Shift</kbd> + <kbd><span class=\"symbol\">⌘</span></kbd> + <kbd>C</kbd>: copy cell\n",
    "\n",
    "<kbd><span class=\"symbol\">⇧</span> Shift</kbd> + <kbd><span class=\"symbol\">⌘</span></kbd> + <kbd>V</kbd>: paste cell\n"
   ]
  },
  {
   "cell_type": "markdown",
   "metadata": {
    "button": false,
    "collapsed": true,
    "deletable": true,
    "run_control": {
     "read_only": false
    }
   },
   "source": [
    "\n",
    "### Edit mode exclusive\n",
    "\n",
    "<kbd>Esc</kbd>: go to command mode\n",
    "\n",
    "<kbd><span class=\"symbol\">⌘</span></kbd> + <kbd>X</kbd>: cut text\n",
    "\n",
    "<kbd><span class=\"symbol\">⌘</span></kbd> + <kbd>C</kbd>: cop text\n",
    "\n",
    "<kbd><span class=\"symbol\">⌘</span></kbd> + <kbd>V</kbd>: paste text\n",
    "\n",
    "<kbd><span class=\"symbol\">⇧</span> Shift</kbd> + <kbd><span class=\"symbol\">⌘</span></kbd> + <kbd>-</kbd>: split cell\n",
    "\n",
    "<kbd><span class=\"symbol\">⌘</span></kbd> + <kbd>M</kbd>: go to command mode\n"
   ]
  },
  {
   "cell_type": "markdown",
   "metadata": {
    "button": false,
    "deletable": true,
    "run_control": {
     "read_only": false
    }
   },
   "source": [
    "### Command mode exclusive\n",
    "\n",
    "<kbd>Return <span class=\"symbol\">⏎</span></kbd>: go to edit mode\n",
    "\n",
    "<kbd><span class=\"symbol\">⌘</span></kbd> + <kbd>Y</kbd>: change cell type to code\n",
    "\n",
    "<kbd><span class=\"symbol\">⌘</span></kbd> + <kbd>M</kbd>: change cell type to markdown\n",
    "\n",
    "<kbd><span class=\"symbol\">⌘</span></kbd> + <kbd>R</kbd>: change cell type to raw\n",
    "\n",
    "<kbd><span class=\"symbol\">↑</span></kbd>: select previous cell\n",
    "\n",
    "<kbd><span class=\"symbol\">↓</span></kbd>: select next cell"
   ]
  },
  {
   "cell_type": "markdown",
   "metadata": {
    "button": false,
    "deletable": true,
    "run_control": {
     "read_only": false
    }
   },
   "source": [
    "<kbd>Y</kbd>: change cell type to code\n",
    "\n",
    "<kbd>M</kbd>: change cell type to markdown\n",
    "\n",
    "<kbd>R</kbd>: change cell type to raw\n",
    "\n",
    "<kbd>K</kbd>: select previous cell\n",
    "\n",
    "<kbd>J</kbd>: select next cell\n",
    "\n",
    "<kbd>A</kbd>: insert cell above\n",
    "\n",
    "<kbd>B</kbd>: insert cell below\n",
    "\n",
    "<kbd>X</kbd>: cut cell\n",
    "\n",
    "<kbd>C</kbd>: copy cell\n",
    "\n",
    "<kbd>V</kbd>: paste cell\n",
    "\n",
    "<kbd><span class=\"symbol\">⇧</span> Shift</kbd> + <kbd>V</kbd>: paste cell above\n"
   ]
  },
  {
   "cell_type": "markdown",
   "metadata": {
    "button": false,
    "collapsed": true,
    "deletable": true,
    "run_control": {
     "read_only": false
    }
   },
   "source": [
    "<kbd>1</kbd>: heading level 1\n",
    "\n",
    "<kbd>2</kbd>: heading level 2\n",
    "\n",
    "<kbd>3</kbd>: heading level 3\n",
    "\n",
    "<kbd>4</kbd>: heading level 4\n",
    "\n",
    "<kbd>5</kbd>: heading level 5"
   ]
  },
  {
   "cell_type": "markdown",
   "metadata": {
    "button": false,
    "deletable": true,
    "run_control": {
     "read_only": false
    }
   },
   "source": [
    "<kbd>S</kbd>: save\n",
    "\n",
    "<kbd>D</kbd> + <kbd>D</kbd>: delete cell\n",
    "\n",
    "<kbd>Z</kbd>: undelete cell\n",
    "\n",
    "<kbd>L</kbd>: toggle line numbers\n",
    "\n",
    "<kbd>O</kbd>: toggle output\n",
    "\n",
    "<kbd><span class=\"symbol\">⇧</span> Shift</kbd> + <kbd>O</kbd>: toggle output scrolling\n",
    "\n",
    "<kbd>I</kbd> + <kbd>I</kbd>: interrupt kernel\n",
    "\n",
    "<kbd>0</kbd> + <kbd>0</kbd>: restart kernel\n"
   ]
  },
  {
   "cell_type": "markdown",
   "metadata": {
    "button": false,
    "deletable": true,
    "run_control": {
     "read_only": false
    }
   },
   "source": [
    "----"
   ]
  }
 ],
 "metadata": {
  "kernelspec": {
   "display_name": "Python 3",
   "language": "python",
   "name": "python3"
  },
  "language_info": {
   "codemirror_mode": {
    "name": "ipython",
    "version": 3
   },
   "file_extension": ".py",
   "mimetype": "text/x-python",
   "name": "python",
   "nbconvert_exporter": "python",
   "pygments_lexer": "ipython3",
   "version": "3.5.0"
  }
 },
 "nbformat": 4,
 "nbformat_minor": 0
}
