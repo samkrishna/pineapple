{
 "cells": [
  {
   "cell_type": "markdown",
   "metadata": {
    "button": false,
    "deletable": true,
    "run_control": {
     "read_only": false
    }
   },
   "source": [
    "# Markdown\n",
    "\n",
    "Notebooks use _Markdown_ as the text format for text cells. This example\n",
    "notebook shows many features that you may find useful in your own notebooks.\n"
   ]
  },
  {
   "cell_type": "markdown",
   "metadata": {
    "button": false,
    "deletable": true,
    "run_control": {
     "read_only": false
    }
   },
   "source": [
    "## Basic Writing\n",
    "\n",
    "### Paragraphs\n",
    "\n",
    "Paragraphs are just lines of text that are not indented, followed by a blank\n",
    "line.\n",
    "\n",
    "    We have a habit in writing articles\n",
    "    published in scientific journals to\n",
    "    make the work as finished as possible,\n",
    "    to cover all the tracks, to not worry\n",
    "    about the blind alleys or to describe\n",
    "    how you had the wrong idea first, and\n",
    "    so on. So there isn't any place to\n",
    "    publish, in a dignified manner, what\n",
    "    you actually did in order to get to\n",
    "    do the work.\n",
    "    \n",
    "    Richard Feynman, Nobel Lecture, 1965."
   ]
  },
  {
   "cell_type": "markdown",
   "metadata": {
    "button": false,
    "deletable": true,
    "run_control": {
     "read_only": false
    }
   },
   "source": [
    "### Headings\n",
    "\n",
    "Headings are indicated with `#` symbols, followed by a space,\n",
    "followed by heading text. There are multiple levels of headings,\n",
    "from `#` down to `#####`.\n",
    "\n",
    "    # Title\n",
    "    \n",
    "    ## Second heading\n",
    "    \n",
    "    ### Smaller heading\n",
    "\n",
    "Different levels of heading are equivalent to `<h1>` through `<h5>` tags."
   ]
  },
  {
   "cell_type": "markdown",
   "metadata": {
    "button": false,
    "deletable": true,
    "run_control": {
     "read_only": false
    }
   },
   "source": [
    "### Quotations\n",
    "\n",
    "Quotations are indicated with `>` then the text to be quoted. Let's redo\n",
    "the Feynman quote.\n",
    "\n",
    "    > We have a habit in writing articles\n",
    "    > published in scientific journals to\n",
    "    > make the work as finished as possible,\n",
    "    > to cover all the tracks, to not worry\n",
    "    > about the blind alleys or to describe\n",
    "    > how you had the wrong idea first, and\n",
    "    > so on. So there isn't any place to\n",
    "    > publish, in a dignified manner, what\n",
    "    > you actually did in order to get to\n",
    "    > do the work.\n",
    "    > \n",
    "    > Richard Feynman, Nobel Lecture, 1965.\n",
    "\n",
    "That will look like this:\n",
    "\n",
    "> We have a habit in writing articles\n",
    "> published in scientific journals to\n",
    "> make the work as finished as possible,\n",
    "> to cover all the tracks, to not worry\n",
    "> about the blind alleys or to describe\n",
    "> how you had the wrong idea first, and\n",
    "> so on. So there isn't any place to\n",
    "> publish, in a dignified manner, what\n",
    "> you actually did in order to get to\n",
    "> do the work.\n",
    "> \n",
    "> Richard Feynman, Nobel Lecture, 1965.\n"
   ]
  },
  {
   "cell_type": "markdown",
   "metadata": {
    "button": false,
    "deletable": true,
    "run_control": {
     "read_only": false
    }
   },
   "source": [
    "## Text Styles\n",
    "\n",
    "### Italic and bold\n",
    "\n",
    "You can make text italic by placing `_` before and after it. So `_italic_` becomes _italic_.\n",
    "\n",
    "You can make text bold by placing `**` before and after it. So `**bold**` becomes **bold**.\n",
    "\n",
    "If you want to go wild you can `_**do both**_` and get _**bold italic**_.\n",
    "\n",
    "### Strikethrough\n",
    "\n",
    "To show crossed-out text you use `~~` before and after.\n",
    "\n",
    "    I ~~hate~~love Python.\n",
    "\n",
    "I ~~hate~~love Python."
   ]
  },
  {
   "cell_type": "markdown",
   "metadata": {
    "button": false,
    "deletable": true,
    "run_control": {
     "read_only": false
    }
   },
   "source": [
    "## Code Formatting\n",
    "\n",
    "### Inline\n",
    "\n",
    "You can use a single backtick around text to treat inline text as code with\n",
    "no other special formatting. It looks like `this` then you put backticks\n",
    "around a word.\n",
    "\n",
    "    If you name your function `foo` then you\n",
    "    deserve what you get.\n",
    "\n",
    "If you name your function `foo` then you deserve what you get."
   ]
  },
  {
   "cell_type": "markdown",
   "metadata": {
    "button": false,
    "deletable": true,
    "run_control": {
     "read_only": false
    }
   },
   "source": [
    "### Blocks\n",
    "\n",
    "To typeset a block of code, start and end with a line of three backticks.\n",
    "\n",
    "    ```\n",
    "    # Most useless function\n",
    "    def f(x):\n",
    "       return x + 1\n",
    "    ```\n",
    "\n",
    "This will render as:\n",
    "\n",
    "```\n",
    "# Most useless function\n",
    "def f(x):\n",
    "   return x + 1\n",
    "```"
   ]
  },
  {
   "cell_type": "markdown",
   "metadata": {
    "button": false,
    "deletable": true,
    "run_control": {
     "read_only": false
    }
   },
   "source": [
    "### Syntax highlighting\n",
    "\n",
    "You can also include a language for the code to turn on syntax highlighting.\n",
    "\n",
    "    ```python\n",
    "    # Most useless function\n",
    "    def f(x):\n",
    "       return x + 1\n",
    "    ```\n",
    "\n",
    "```python\n",
    "# Most useless function\n",
    "def f(x):\n",
    "   return x + 1\n",
    "```\n",
    "\n",
    "Some of the other choices for language include \n",
    "`bash`, \n",
    "`html`, `css`, `javascript`, `markdown`,\n",
    "`python`, `ruby`, `perl`, `c++`, `java`,\n",
    "`R`, `Mathematica`, `Matlab`.\n",
    "\n",
    "For example, here is some meaningless R code. (Note: Pineapple currently\n",
    "only supports Python kernels so code cells must be in Python).\n",
    "\n",
    "```R\n",
    "library(ggplot2)\n",
    "\n",
    "myVar1\n",
    "# Comment\n",
    "\"This is a string # still string\"\n",
    "plot(data, xlim=20)\n",
    "```\n",
    "\n",
    "Syntax highlighting is supplied by [highlight.js](https://highlightjs.org/)."
   ]
  },
  {
   "cell_type": "markdown",
   "metadata": {
    "button": false,
    "deletable": true,
    "run_control": {
     "read_only": false
    }
   },
   "source": [
    "## Links\n",
    "\n",
    "The simplest way to put in a link to a webpage is to just paste in the\n",
    "full URL inside a paragraph. Full URLs are expanded to be clickable links.\n",
    "\n",
    "    Syntax highlighting is\n",
    "    supplied by https://highlightjs.org/.\n",
    "\n",
    "Syntax highlighting is\n",
    "supplied by https://highlightjs.org/.\n",
    "\n",
    "You can also create links by putting the anchor text inside `[` `]` followed\n",
    "by the URL inside `(` `)`.\n",
    "\n",
    "    Syntax highlighting is\n",
    "    supplied by [highlight.js](https://highlightjs.org/).\n",
    "\n",
    "Syntax highlighting is\n",
    "supplied by [highlight.js](https://highlightjs.org/).\n",
    "   "
   ]
  },
  {
   "cell_type": "markdown",
   "metadata": {
    "button": false,
    "deletable": true,
    "run_control": {
     "read_only": false
    }
   },
   "source": [
    "## Lists\n",
    "\n",
    "Unordered lists are created by starting with a `-` or `*` with no indentation.\n",
    "\n",
    "    - First\n",
    "    - Second\n",
    "    - Third\n",
    "\n",
    "- First\n",
    "- Second\n",
    "- Third\n",
    "\n",
    "Ordered lists are created by starting with a number and a period.\n",
    "\n",
    "    1. First\n",
    "    2. Second\n",
    "    3. Third\n",
    "\n",
    "1. First\n",
    "2. Second\n",
    "3. Third\n",
    "\n",
    "You can nest lists using identation.\n"
   ]
  },
  {
   "cell_type": "markdown",
   "metadata": {
    "button": false,
    "deletable": true,
    "run_control": {
     "read_only": false
    }
   },
   "source": [
    "## Unicode and Symbols\n",
    "\n",
    "You can type unicode characters directly into notebooks. If you\n",
    "cannot type a character directly you can also enter its HTML code.\n",
    "Some unicode characters may not be available in your installed\n",
    "fonts but common symbols should always be available.\n",
    "\n",
    "See https://en.wikipedia.org/wiki/List_of_Unicode_characters for codes.\n",
    "\n",
    "    The measurement took 3 µs.\n",
    "\n",
    "The measurement took 3 µs.\n",
    "\n",
    "    The measurement took 3 &#181;s.\n",
    "\n",
    "The measurement took 3 &#181;s.\n",
    "\n",
    "    The symbol &#x211d; is commonly used to denote the reals in mathematics.\n",
    "\n",
    "The symbol &#x211d; is commonly used to denote the reals in mathematics.\n",
    "\n",
    "    My clarinet is tuned to B&#9837;.\n",
    "\n",
    "My clarinet is tuned to B&#9837;."
   ]
  },
  {
   "cell_type": "markdown",
   "metadata": {
    "button": false,
    "deletable": true,
    "run_control": {
     "read_only": false
    }
   },
   "source": [
    "## LaTeX\n",
    "\n",
    "Text cells can also contain mathematica formulas using LaTeX notation.\n",
    "Formulas render using MathJax.\n",
    "\n",
    "### Inline\n",
    "\n",
    "Surround inline formulas or names with `$`.\n",
    "\n",
    "    The variable $x$ is in the bounds $0 \\le x \\le 1$.\n",
    "\n",
    "The variable $x$ is in the bounds $0 \\le x \\le 1$.\n",
    "\n",
    "    With some work we get $\\int_1^\\infty x^{-2} dx = 1$.\n",
    "\n",
    "With some work we get $\\int_1^\\infty x^{-2} dx = 1$."
   ]
  },
  {
   "cell_type": "markdown",
   "metadata": {
    "button": false,
    "deletable": true,
    "run_control": {
     "read_only": false
    }
   },
   "source": [
    "### Equations\n",
    "\n",
    "To put equations on thier own line, surround them with `$$`.\n",
    "\n",
    "    $$\\int_1^\\infty \\frac{1}{x^2} dx = 1$$\n",
    "\n",
    "$$\\int_1^\\infty \\frac{1}{x^2} dx = 1$$"
   ]
  },
  {
   "cell_type": "markdown",
   "metadata": {
    "button": false,
    "deletable": true,
    "run_control": {
     "read_only": false
    }
   },
   "source": [
    "### Advanced LaTeX\n",
    "\n",
    "You can do more advanced things inside formulas. Pineapple includes\n",
    "the base MathJax package which includes most Plain TeX math,\n",
    "most LaTeX macros and environments, AMS math, and AMS symbols. It does\n",
    "not include any other processor extensions or packages.\n",
    "\n",
    "#### Maxwell's Equations\n",
    "$$\n",
    "\\begin{aligned}\n",
    "  \\nabla \\times \\vec{\\mathbf{B}} -\\, \\frac1c\\, \\frac{\\partial\\vec{\\mathbf{E}}}{\\partial t} & = \\frac{4\\pi}{c}\\vec{\\mathbf{j}} \\\\\n",
    "  \\nabla \\cdot \\vec{\\mathbf{E}} & = 4 \\pi \\rho \\\\\n",
    "  \\nabla \\times \\vec{\\mathbf{E}}\\, +\\, \\frac1c\\, \\frac{\\partial\\vec{\\mathbf{B}}}{\\partial t} & = \\vec{\\mathbf{0}} \\\\\n",
    "  \\nabla \\cdot \\vec{\\mathbf{B}} & = 0\n",
    "\\end{aligned}\n",
    "$$\n",
    "\n",
    "#### Substack (AMS math)\n",
    "$$\n",
    "\\sum_{\n",
    "\\substack{\n",
    "1\\lt i\\lt 3 \\\\\n",
    "1\\le j\\lt 5\n",
    "}}\n",
    "a_{ij}\n",
    "$$"
   ]
  },
  {
   "cell_type": "markdown",
   "metadata": {
    "button": false,
    "deletable": true,
    "run_control": {
     "read_only": false
    }
   },
   "source": [
    "## Breaks and Rules\n",
    "\n",
    "You can insert HTML spacing such as `<br />` or `&nbsp;`\n",
    "as needed.\n",
    "\n",
    "    Mr.&nbsp;Jones should never<br />have his appelation\n",
    "    disassociated from his nominative.\n",
    "\n",
    "Mr.&nbsp;Jones should never<br />have his appelation\n",
    "disassociated from his nominative.\n",
    "\n",
    "You can create a rule with a single line of `----` with\n",
    "blank lines before and after.\n",
    "\n",
    "    ----\n",
    "\n",
    "----"
   ]
  },
  {
   "cell_type": "markdown",
   "metadata": {
    "button": false,
    "deletable": true,
    "run_control": {
     "read_only": false
    }
   },
   "source": [
    "----"
   ]
  }
 ],
 "metadata": {
  "kernelspec": {
   "display_name": "Python 3",
   "language": "python",
   "name": "python3"
  },
  "language_info": {
   "codemirror_mode": {
    "name": "ipython",
    "version": 3
   },
   "file_extension": ".py",
   "mimetype": "text/x-python",
   "name": "python",
   "nbconvert_exporter": "python",
   "pygments_lexer": "ipython3",
   "version": "3.5.0"
  }
 },
 "nbformat": 4,
 "nbformat_minor": 0
}
