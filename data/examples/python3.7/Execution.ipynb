{
 "cells": [
  {
   "cell_type": "markdown",
   "metadata": {
    "button": false,
    "deletable": true,
    "run_control": {
     "read_only": false
    }
   },
   "source": [
    "# Executing Code\n",
    "\n",
    "In this notebook we'll look at some of the issues surrounding executing\n",
    "code in the notebook.\n",
    "\n",
    "## Backtraces\n",
    "\n",
    "When you interrupt a computation, or if an exception is raised but not\n",
    "caught, you will see a backtrace of what was happening when the program\n",
    "halted. The backtrace is color highlighted to help you find the information\n",
    "you need to debug the problem."
   ]
  },
  {
   "cell_type": "code",
   "execution_count": 1,
   "metadata": {
    "button": false,
    "collapsed": false,
    "deletable": true,
    "run_control": {
     "read_only": false
    }
   },
   "outputs": [
    {
     "ename": "ZeroDivisionError",
     "evalue": "float division by zero",
     "output_type": "error",
     "traceback": [
      "\u001b[1;31m---------------------------------------------------------------------------\u001b[0m",
      "\u001b[1;31mZeroDivisionError\u001b[0m                         Traceback (most recent call last)",
      "\u001b[1;32m<ipython-input-1-2383327a1aba>\u001b[0m in \u001b[0;36m<module>\u001b[1;34m()\u001b[0m\n\u001b[0;32m      5\u001b[0m     \u001b[1;32mreturn\u001b[0m \u001b[0mx\u001b[0m \u001b[1;33m-\u001b[0m \u001b[1;36m1.0\u001b[0m\u001b[1;33m\u001b[0m\u001b[0m\n\u001b[0;32m      6\u001b[0m \u001b[1;33m\u001b[0m\u001b[0m\n\u001b[1;32m----> 7\u001b[1;33m \u001b[0mf\u001b[0m\u001b[1;33m(\u001b[0m\u001b[0mg\u001b[0m\u001b[1;33m(\u001b[0m\u001b[1;36m1.0\u001b[0m\u001b[1;33m)\u001b[0m\u001b[1;33m)\u001b[0m\u001b[1;33m\u001b[0m\u001b[0m\n\u001b[0m",
      "\u001b[1;32m<ipython-input-1-2383327a1aba>\u001b[0m in \u001b[0;36mf\u001b[1;34m(x)\u001b[0m\n\u001b[0;32m      1\u001b[0m \u001b[1;32mdef\u001b[0m \u001b[0mf\u001b[0m\u001b[1;33m(\u001b[0m\u001b[0mx\u001b[0m\u001b[1;33m)\u001b[0m\u001b[1;33m:\u001b[0m\u001b[1;33m\u001b[0m\u001b[0m\n\u001b[1;32m----> 2\u001b[1;33m     \u001b[1;32mreturn\u001b[0m \u001b[1;36m1.0\u001b[0m \u001b[1;33m/\u001b[0m \u001b[0mx\u001b[0m\u001b[1;33m\u001b[0m\u001b[0m\n\u001b[0m\u001b[0;32m      3\u001b[0m \u001b[1;33m\u001b[0m\u001b[0m\n\u001b[0;32m      4\u001b[0m \u001b[1;32mdef\u001b[0m \u001b[0mg\u001b[0m\u001b[1;33m(\u001b[0m\u001b[0mx\u001b[0m\u001b[1;33m)\u001b[0m\u001b[1;33m:\u001b[0m\u001b[1;33m\u001b[0m\u001b[0m\n\u001b[0;32m      5\u001b[0m     \u001b[1;32mreturn\u001b[0m \u001b[0mx\u001b[0m \u001b[1;33m-\u001b[0m \u001b[1;36m1.0\u001b[0m\u001b[1;33m\u001b[0m\u001b[0m\n",
      "\u001b[1;31mZeroDivisionError\u001b[0m: float division by zero"
     ]
    }
   ],
   "source": [
    "def f(x):\n",
    "    return 1.0 / x\n",
    "\n",
    "def g(x):\n",
    "    return x - 1.0\n",
    "\n",
    "f(g(1.0))"
   ]
  },
  {
   "cell_type": "markdown",
   "metadata": {
    "button": false,
    "deletable": true,
    "run_control": {
     "read_only": false
    }
   },
   "source": [
    "## Python Debugging\n",
    "\n",
    "You can also turn on the Python debugger inside a notebook using the\n",
    "magic invocation `%pdb on`. When an exception occurs, the debugger\n",
    "will activate inside the output cell. You can then type commands\n",
    "and see responses from the stopped state of the program.\n",
    "\n",
    "Some commands:\n",
    "- `h` help\n",
    "- `w` print stack trace\n",
    "- `p expr` print expressions\n",
    "- `q` quit\n",
    "- `r` restart\n",
    "\n",
    "Full documentation on the debugger can be found at [Python debugger pdb](https://docs.python.org/2/library/pdb.html)."
   ]
  },
  {
   "cell_type": "code",
   "execution_count": 2,
   "metadata": {
    "button": false,
    "collapsed": false,
    "deletable": true,
    "run_control": {
     "read_only": false
    }
   },
   "outputs": [
    {
     "name": "stdout",
     "output_type": "stream",
     "text": [
      "Automatic pdb calling has been turned ON\n"
     ]
    },
    {
     "ename": "ZeroDivisionError",
     "evalue": "float division by zero",
     "output_type": "error",
     "traceback": [
      "\u001b[1;31m---------------------------------------------------------------------------\u001b[0m",
      "\u001b[1;31mZeroDivisionError\u001b[0m                         Traceback (most recent call last)",
      "\u001b[1;32m<ipython-input-2-7ad25bf8f2e7>\u001b[0m in \u001b[0;36m<module>\u001b[1;34m()\u001b[0m\n\u001b[0;32m      1\u001b[0m \u001b[0mget_ipython\u001b[0m\u001b[1;33m(\u001b[0m\u001b[1;33m)\u001b[0m\u001b[1;33m.\u001b[0m\u001b[0mmagic\u001b[0m\u001b[1;33m(\u001b[0m\u001b[1;34m'pdb on'\u001b[0m\u001b[1;33m)\u001b[0m\u001b[1;33m\u001b[0m\u001b[0m\n\u001b[0;32m      2\u001b[0m \u001b[1;33m\u001b[0m\u001b[0m\n\u001b[1;32m----> 3\u001b[1;33m \u001b[0mf\u001b[0m\u001b[1;33m(\u001b[0m\u001b[0mg\u001b[0m\u001b[1;33m(\u001b[0m\u001b[1;36m1.0\u001b[0m\u001b[1;33m)\u001b[0m\u001b[1;33m)\u001b[0m\u001b[1;33m\u001b[0m\u001b[0m\n\u001b[0m",
      "\u001b[1;32m<ipython-input-1-2383327a1aba>\u001b[0m in \u001b[0;36mf\u001b[1;34m(x)\u001b[0m\n\u001b[0;32m      1\u001b[0m \u001b[1;32mdef\u001b[0m \u001b[0mf\u001b[0m\u001b[1;33m(\u001b[0m\u001b[0mx\u001b[0m\u001b[1;33m)\u001b[0m\u001b[1;33m:\u001b[0m\u001b[1;33m\u001b[0m\u001b[0m\n\u001b[1;32m----> 2\u001b[1;33m     \u001b[1;32mreturn\u001b[0m \u001b[1;36m1.0\u001b[0m \u001b[1;33m/\u001b[0m \u001b[0mx\u001b[0m\u001b[1;33m\u001b[0m\u001b[0m\n\u001b[0m\u001b[0;32m      3\u001b[0m \u001b[1;33m\u001b[0m\u001b[0m\n\u001b[0;32m      4\u001b[0m \u001b[1;32mdef\u001b[0m \u001b[0mg\u001b[0m\u001b[1;33m(\u001b[0m\u001b[0mx\u001b[0m\u001b[1;33m)\u001b[0m\u001b[1;33m:\u001b[0m\u001b[1;33m\u001b[0m\u001b[0m\n\u001b[0;32m      5\u001b[0m     \u001b[1;32mreturn\u001b[0m \u001b[0mx\u001b[0m \u001b[1;33m-\u001b[0m \u001b[1;36m1.0\u001b[0m\u001b[1;33m\u001b[0m\u001b[0m\n",
      "\u001b[1;31mZeroDivisionError\u001b[0m: float division by zero"
     ]
    },
    {
     "name": "stdout",
     "output_type": "stream",
     "text": [
      "> \u001b[1;32m<ipython-input-1-2383327a1aba>\u001b[0m(2)\u001b[0;36mf\u001b[1;34m()\u001b[0m\n",
      "\u001b[1;32m      1 \u001b[1;33m\u001b[1;32mdef\u001b[0m \u001b[0mf\u001b[0m\u001b[1;33m(\u001b[0m\u001b[0mx\u001b[0m\u001b[1;33m)\u001b[0m\u001b[1;33m:\u001b[0m\u001b[1;33m\u001b[0m\u001b[0m\n",
      "\u001b[0m\u001b[1;32m----> 2 \u001b[1;33m    \u001b[1;32mreturn\u001b[0m \u001b[1;36m1.0\u001b[0m \u001b[1;33m/\u001b[0m \u001b[0mx\u001b[0m\u001b[1;33m\u001b[0m\u001b[0m\n",
      "\u001b[0m\u001b[1;32m      3 \u001b[1;33m\u001b[1;33m\u001b[0m\u001b[0m\n",
      "\u001b[0m\n",
      "ipdb> p 2/3\n",
      "0.6666666666666666\n",
      "ipdb> q\n"
     ]
    }
   ],
   "source": [
    "%pdb on\n",
    "\n",
    "f(g(1.0))"
   ]
  },
  {
   "cell_type": "markdown",
   "metadata": {
    "button": false,
    "deletable": true,
    "run_control": {
     "read_only": false
    }
   },
   "source": [
    "## Output\n",
    "\n",
    "Normal output is shown after the `In[]` area. Output written to `stdout` is shown in one color,\n",
    "while output written to `stderr` is shown with a red background."
   ]
  },
  {
   "cell_type": "code",
   "execution_count": 3,
   "metadata": {
    "button": false,
    "collapsed": false,
    "deletable": true,
    "run_control": {
     "read_only": false
    }
   },
   "outputs": [
    {
     "name": "stdout",
     "output_type": "stream",
     "text": [
      "Hello, world!\n",
      "We meet again, stdout."
     ]
    },
    {
     "name": "stderr",
     "output_type": "stream",
     "text": [
      "Error, you appear to have created a black hole."
     ]
    }
   ],
   "source": [
    "import sys\n",
    "print('Hello, world!')\n",
    "sys.stdout.write('We meet again, stdout.')\n",
    "sys.stderr.write('Error, you appear to have created a black hole.')"
   ]
  },
  {
   "cell_type": "markdown",
   "metadata": {
    "button": false,
    "deletable": true,
    "run_control": {
     "read_only": false
    }
   },
   "source": [
    "## Asynchronous Output\n",
    "\n",
    "Output written to `stdout` and `stderr` shows up immediately in the notebook, you don't have\n",
    "to wait for the evaluation to finish before you see anything. Here is demo."
   ]
  },
  {
   "cell_type": "code",
   "execution_count": 4,
   "metadata": {
    "button": false,
    "collapsed": false,
    "deletable": true,
    "run_control": {
     "read_only": false
    }
   },
   "outputs": [
    {
     "name": "stdout",
     "output_type": "stream",
     "text": [
      "0\n",
      "1\n",
      "2\n",
      "3\n",
      "4\n",
      "5\n",
      "6\n",
      "7\n",
      "8\n",
      "9\n"
     ]
    }
   ],
   "source": [
    "import time\n",
    "for i in range(10):\n",
    "    print(i)\n",
    "    time.sleep(0.5)"
   ]
  },
  {
   "cell_type": "markdown",
   "metadata": {
    "button": false,
    "deletable": true,
    "run_control": {
     "read_only": false
    }
   },
   "source": [
    "## Threads\n",
    "\n",
    "You can start multiple threads and use the standard Python threading libraries such as\n",
    "`threads` and `threading` to coordinate between them.\n",
    "\n",
    "Note that because of the global interpreter lock in CPython two threads\n",
    "with work to do will never run at the same time."
   ]
  },
  {
   "cell_type": "code",
   "execution_count": 6,
   "metadata": {
    "button": false,
    "collapsed": false,
    "deletable": true,
    "run_control": {
     "read_only": false
    }
   },
   "outputs": [
    {
     "name": "stdout",
     "output_type": "stream",
     "text": [
      "100 loops, best of 3: 9.13 ms per loop\n",
      "1 loops, best of 3: 272 ms per loop\n"
     ]
    }
   ],
   "source": [
    "import threading\n",
    "\n",
    "class SummingThread(threading.Thread):\n",
    "     def __init__(self, low, high):\n",
    "         super(SummingThread, self).__init__()\n",
    "         self.low = low\n",
    "         self.high = high\n",
    "         self.total = 0\n",
    "\n",
    "     def run(self):\n",
    "         for i in range(self.low, self.high):\n",
    "             self.total += i\n",
    "\n",
    "def sequential_sum(n):\n",
    "    total = 0\n",
    "    for i in range(0, n):\n",
    "        total += i\n",
    "    return total\n",
    "            \n",
    "def parallel_sum(n):\n",
    "    thread1 = SummingThread(0, n//2)\n",
    "    thread2 = SummingThread(n//2, n)\n",
    "    thread1.start()\n",
    "    thread2.start()\n",
    "    thread1.join()\n",
    "    thread2.join()\n",
    "    return thread1.total + thread2.total\n",
    "\n",
    "%timeit sequential_sum(100000)\n",
    "%timeit parallel_sum(1000000)"
   ]
  },
  {
   "cell_type": "markdown",
   "metadata": {
    "button": false,
    "deletable": true,
    "run_control": {
     "read_only": false
    }
   },
   "source": [
    "## Multiprocessing\n",
    "\n",
    "It is possible to use the `multiprocessing` library inside Pineapple notebooks. The `multiprocessing` library spawns multiple interpreters\n",
    "which can actually run in parallel. Of course this is still no guarantee\n",
    "of higher performance."
   ]
  },
  {
   "cell_type": "code",
   "execution_count": 7,
   "metadata": {
    "button": false,
    "collapsed": false,
    "deletable": true,
    "run_control": {
     "read_only": false
    }
   },
   "outputs": [
    {
     "name": "stdout",
     "output_type": "stream",
     "text": [
      "1000 loops, best of 3: 925 µs per loop\n",
      "10 loops, best of 3: 30 ms per loop\n"
     ]
    }
   ],
   "source": [
    "from time import sleep\n",
    "from multiprocessing import Pool\n",
    "\n",
    "def f(p):\n",
    "    low, high = p\n",
    "    total = 0\n",
    "    for i in range(low, high):\n",
    "        total += i\n",
    "    return total\n",
    "\n",
    "def sequential_sum(n):\n",
    "    total = 0\n",
    "    for i in range(0, n):\n",
    "        total += i\n",
    "    return total\n",
    "\n",
    "def parallel_sum(n):\n",
    "    p = Pool(2)\n",
    "    results = p.map(f, [[0, n//2], [n//2, n]])\n",
    "    return results[0] + results[1]\n",
    "\n",
    "if __name__ == \"__main__\":\n",
    "    %timeit sequential_sum(10000)\n",
    "    %timeit parallel_sum(100000)"
   ]
  },
  {
   "cell_type": "markdown",
   "metadata": {
    "button": false,
    "deletable": true,
    "run_control": {
     "read_only": false
    }
   },
   "source": [
    "----"
   ]
  }
 ],
 "metadata": {
  "kernelspec": {
   "display_name": "Python 3",
   "language": "python",
   "name": "python3"
  },
  "language_info": {
   "codemirror_mode": {
    "name": "ipython",
    "version": 3
   },
   "file_extension": ".py",
   "mimetype": "text/x-python",
   "name": "python",
   "nbconvert_exporter": "python",
   "pygments_lexer": "ipython3",
   "version": "3.5.0"
  }
 },
 "nbformat": 4,
 "nbformat_minor": 0
}
