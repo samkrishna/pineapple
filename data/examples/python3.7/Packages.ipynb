{
 "cells": [
  {
   "cell_type": "markdown",
   "metadata": {
    "button": false,
    "deletable": true,
    "run_control": {
     "read_only": false
    }
   },
   "source": [
    "# Packages\n",
    "\n",
    "Pineapple is a self-contained application that includes a copy of Python 3.5. Upon installation, several useful packages are already installed and available for use without further setup. In addition, Pineapple includes commands to help you manage your Python packages."
   ]
  },
  {
   "cell_type": "markdown",
   "metadata": {
    "button": false,
    "deletable": true,
    "run_control": {
     "read_only": false
    }
   },
   "source": [
    "## Preinstalled packages\n",
    "\n",
    "All of the Python 3.5 [standard library](https://docs.python.org/3.5/library/) packages are available.\n",
    "\n",
    "The following packages are pre-installed:\n",
    "\n",
    "- numpy\n",
    "- matplotlib\n",
    "- IVisual"
   ]
  },
  {
   "cell_type": "code",
   "execution_count": 2,
   "metadata": {
    "button": false,
    "collapsed": false,
    "deletable": true,
    "run_control": {
     "read_only": false
    }
   },
   "outputs": [
    {
     "name": "stdout",
     "output_type": "stream",
     "text": [
      "Cython==0.23.1\n",
      "decorator==4.0.2\n",
      "ipykernel==4.0.3\n",
      "ipython==4.0.0\n",
      "ipython-genutils==0.1.0\n",
      "IVisual-alt==0.2.3\n",
      "Jinja2==2.8\n",
      "jsonschema==2.5.1\n",
      "jupyter-client==4.0.0\n",
      "jupyter-core==4.0.4\n",
      "MarkupSafe==0.23\n",
      "matplotlib==1.4.3\n",
      "mistune==0.7.1\n",
      "nbconvert==4.0.0\n",
      "nbformat==4.0.0\n",
      "nose==1.3.7\n",
      "notebook==4.0.4\n",
      "-e git://github.com/numpy/numpy.git@cee68d1e764711be671003e8d6e57c8049cee5ad#egg=numpy-master\n",
      "path.py==8.1\n",
      "pexpect==3.3\n",
      "pickleshare==0.5\n",
      "pineapple==0.4\n",
      "ptyprocess==0.5\n",
      "py==1.4.30\n",
      "Pygments==2.0.2\n",
      "pyparsing==2.0.3\n",
      "pytest==2.7.2\n",
      "python-dateutil==2.4.2\n",
      "pytz==2015.4\n",
      "pyzmq==14.7.0\n",
      "simplegeneric==0.8.1\n",
      "six==1.9.0\n",
      "terminado==0.5\n",
      "tornado==4.2.1\n",
      "traitlets==4.0.0\n",
      "wheel==0.24.0\n"
     ]
    }
   ],
   "source": [
    "import pineapple\n",
    "%pip freeze"
   ]
  },
  {
   "cell_type": "markdown",
   "metadata": {
    "button": false,
    "deletable": true,
    "run_control": {
     "read_only": false
    }
   },
   "source": [
    "## All preinstalled packages\n",
    "\n",
    "The following is the full list of packages that are pre-installed:\n",
    "\n",
    "- Cython\n",
    "- decorator\n",
    "- ipykernel\n",
    "- ipython\n",
    "- ipython-genutils\n",
    "- IVisual\n",
    "- Jinja2\n",
    "- jsonschema\n",
    "- jupyter-client\n",
    "- jupyter-core\n",
    "- MarkupSafe\n",
    "- matplotlib\n",
    "- mistune\n",
    "- mock\n",
    "- nbconvert\n",
    "- nbformat\n",
    "- nose\n",
    "- notebook\n",
    "- numpy\n",
    "- path.py\n",
    "- pexpect\n",
    "- pickleshare\n",
    "- pineapple\n",
    "- ptyprocess\n",
    "- py\n",
    "- pycurl\n",
    "- Pygments\n",
    "- pyparsing\n",
    "- python-dateutil\n",
    "- pytz\n",
    "- pyzmq\n",
    "- simplegeneric\n",
    "- six\n",
    "- terminado\n",
    "- tornado\n",
    "- traitlets\n",
    "- wheel"
   ]
  },
  {
   "cell_type": "markdown",
   "metadata": {
    "button": false,
    "deletable": true,
    "run_control": {
     "read_only": false
    }
   },
   "source": [
    "## Package management\n",
    "\n",
    "The easiest way to manage packages is to use the `pineapple` package.\n",
    "\n",
    "After importing the module new magic instructions `%pip` and `%require` become available.\n",
    "\n",
    "The `%pip` line magic command lets you run pip from within your notebook instead of from the command line. pip is the official tool included with\n",
    "Python for managing packages.\n",
    "\n",
    "For full documentation see the [official documentation](https://pip.pypa.io/en/stable/)."
   ]
  },
  {
   "cell_type": "markdown",
   "metadata": {
    "button": false,
    "deletable": true,
    "run_control": {
     "read_only": false
    }
   },
   "source": [
    "### %pip examples"
   ]
  },
  {
   "cell_type": "code",
   "execution_count": 3,
   "metadata": {
    "button": false,
    "collapsed": false,
    "deletable": true,
    "run_control": {
     "read_only": false
    }
   },
   "outputs": [
    {
     "name": "stdout",
     "output_type": "stream",
     "text": [
      "Cython (0.23.1)\n",
      "decorator (4.0.2)\n",
      "ipykernel (4.0.3)\n",
      "ipython (4.0.0)\n",
      "ipython-genutils (0.1.0)\n",
      "IVisual-alt (0.2.3)\n",
      "Jinja2 (2.8)\n",
      "jsonschema (2.5.1)\n",
      "jupyter-client (4.0.0)\n",
      "jupyter-core (4.0.4)\n",
      "MarkupSafe (0.23)\n",
      "matplotlib (1.4.3)\n",
      "mistune (0.7.1)\n",
      "nbconvert (4.0.0)\n",
      "nbformat (4.0.0)\n",
      "nose (1.3.7)\n",
      "notebook (4.0.4)\n",
      "numpy (1.11.0.dev0+cee68d1, /home/nwhitehead/projects/pineapple/build/src/numpy)\n",
      "path.py (8.1)\n",
      "pexpect (3.3)\n",
      "pickleshare (0.5)\n",
      "pineapple (0.4)\n",
      "pip (7.1.2)\n",
      "ptyprocess (0.5)\n",
      "py (1.4.30)\n",
      "Pygments (2.0.2)\n",
      "pyparsing (2.0.3)\n",
      "pytest (2.7.2)\n",
      "python-dateutil (2.4.2)\n",
      "pytz (2015.4)\n",
      "pyzmq (14.7.0)\n",
      "setuptools (18.2)\n",
      "simplegeneric (0.8.1)\n",
      "six (1.9.0)\n",
      "terminado (0.5)\n",
      "tornado (4.2.1)\n",
      "traitlets (4.0.0)\n",
      "wheel (0.24.0)\n"
     ]
    }
   ],
   "source": [
    "import pineapple # required for all subsequent cells\n",
    "\n",
    "# Use %pip line magic to list all installed packages\n",
    "%pip list"
   ]
  },
  {
   "cell_type": "code",
   "execution_count": 4,
   "metadata": {
    "button": false,
    "collapsed": false,
    "deletable": true,
    "run_control": {
     "read_only": false
    }
   },
   "outputs": [
    {
     "name": "stdout",
     "output_type": "stream",
     "text": [
      "Collecting unittest2\n",
      "  Using cached unittest2-1.1.0-py2.py3-none-any.whl\n",
      "Requirement already satisfied (use --upgrade to upgrade): six>=1.4 in /home/nwhitehead/projects/pineapple/build/share/Pineapple/python3.5/lib/python3.5/site-packages (from unittest2)\n",
      "Collecting argparse (from unittest2)\n",
      "  Downloading argparse-1.4.0-py2.py3-none-any.whl\n",
      "Collecting traceback2 (from unittest2)\n",
      "  Using cached traceback2-1.4.0-py2.py3-none-any.whl\n",
      "Collecting linecache2 (from traceback2->unittest2)\n",
      "  Using cached linecache2-1.0.0-py2.py3-none-any.whl\n",
      "Installing collected packages: argparse, linecache2, traceback2, unittest2\n",
      "Successfully installed argparse-1.4.0 linecache2-1.0.0 traceback2-1.4.0 unittest2-1.1.0\n"
     ]
    }
   ],
   "source": [
    "# Use %pip line magic to download and install a specific package\n",
    "%pip install unittest2"
   ]
  },
  {
   "cell_type": "code",
   "execution_count": 5,
   "metadata": {
    "button": false,
    "collapsed": true,
    "deletable": true,
    "run_control": {
     "read_only": false
    }
   },
   "outputs": [],
   "source": [
    "# New package is not available for import\n",
    "import unittest2"
   ]
  },
  {
   "cell_type": "code",
   "execution_count": 6,
   "metadata": {
    "button": false,
    "collapsed": false,
    "deletable": true,
    "run_control": {
     "read_only": false
    }
   },
   "outputs": [
    {
     "name": "stdout",
     "output_type": "stream",
     "text": [
      "Uninstalling unittest2-1.1.0:\n",
      "  Successfully uninstalled unittest2-1.1.0\n"
     ]
    }
   ],
   "source": [
    "# You can also uninstall packages\n",
    "%pip uninstall -y unittest2"
   ]
  },
  {
   "cell_type": "markdown",
   "metadata": {
    "button": false,
    "deletable": true,
    "run_control": {
     "read_only": false
    }
   },
   "source": [
    "### %require examples\n",
    "\n",
    "The `%require` line magic is a streamlined way to list and\n",
    "install packages. With no arguments it lists all installed\n",
    "packages together with specific versions (pip freeze).\n",
    "\n",
    "With arguments it ensures that the correct version of a package\n",
    "is available. If no version is specified then the latest version\n",
    "is used.\n",
    "\n",
    "Versions can be specified using _version specifiers_. This\n",
    "lets you specify minimum versions, maximum versions, and more.\n",
    "See [requirement specifier documentation](https://pip.pypa.io/en/stable/reference/pip_install.html#requirement-specifiers)."
   ]
  },
  {
   "cell_type": "code",
   "execution_count": 7,
   "metadata": {
    "button": false,
    "collapsed": true,
    "deletable": true,
    "run_control": {
     "read_only": false
    }
   },
   "outputs": [],
   "source": [
    "%require unittest2\n",
    "import unittest2"
   ]
  },
  {
   "cell_type": "code",
   "execution_count": 8,
   "metadata": {
    "button": false,
    "collapsed": false,
    "deletable": true,
    "run_control": {
     "read_only": false
    }
   },
   "outputs": [],
   "source": [
    "%require unittest2==1.1.0"
   ]
  },
  {
   "cell_type": "code",
   "execution_count": 9,
   "metadata": {
    "button": false,
    "collapsed": false,
    "deletable": true,
    "run_control": {
     "read_only": false
    }
   },
   "outputs": [],
   "source": [
    "%require unittest2==1.1.0 pip>=7"
   ]
  },
  {
   "cell_type": "markdown",
   "metadata": {
    "button": false,
    "deletable": true,
    "run_control": {
     "read_only": false
    }
   },
   "source": [
    "## Best practices\n",
    "\n",
    "For notebooks designed to be distributed to other Pineapple users,\n",
    "it is recommended that your notebook be tested on a fresh installation\n",
    "of the most recent version of Pineapple. Your notebook should\n",
    "start with `%require` commands to ensure that the correct packages\n",
    "are loaded. This also serves as documentation of which packages\n",
    "your code will use.\n",
    "\n",
    "To ensure reproducibility, it is recommended that you\n",
    "specify full exact version numbers for all pure Python\n",
    "packages that you use. It is recommended to specify _minimum_ versions\n",
    "of packages for packages that are included in Pineapple by default."
   ]
  },
  {
   "cell_type": "markdown",
   "metadata": {
    "button": false,
    "deletable": true,
    "run_control": {
     "read_only": false
    }
   },
   "source": [
    "## Pineapple copies\n",
    "\n",
    "Each copy of Pineapple is self-contained. This means you can\n",
    "duplicate the Pineapple application, play around with packages in the\n",
    "copy, then delete the copy with no risk of corrupting your current\n",
    "installation. If you install many packages it is recommended to make\n",
    "a backup copy of Pineapple with all your packages installed and working for peace of mind.\n",
    "\n",
    "New versions of Pineapple will start with preinstalled packages but\n",
    "will no longer have any packages you installed in the old version.\n",
    "The recommended way to transfer packages to the new installation\n",
    "is to do `%require` to get a list of all packages, then paste that\n",
    "list of packages into a `%require` in the new installation."
   ]
  },
  {
   "cell_type": "code",
   "execution_count": 10,
   "metadata": {
    "button": false,
    "collapsed": false,
    "deletable": true,
    "run_control": {
     "read_only": false
    }
   },
   "outputs": [
    {
     "data": {
      "text/plain": [
       "'Cython==0.23.1 decorator==4.0.2 ipykernel==4.0.3 ipython==4.0.0 ipython-genutils==0.1.0 IVisual-alt==0.2.3 Jinja2==2.8 jsonschema==2.5.1 jupyter-client==4.0.0 jupyter-core==4.0.4 linecache2==1.0.0 MarkupSafe==0.23 matplotlib==1.4.3 mistune==0.7.1 nbconvert==4.0.0 nbformat==4.0.0 nose==1.3.7 notebook==4.0.4 -e git://github.com/numpy/numpy.git@cee68d1e764711be671003e8d6e57c8049cee5ad#egg=numpy-master path.py==8.1 pexpect==3.3 pickleshare==0.5 pineapple==0.4 pip==7.1.2 ptyprocess==0.5 py==1.4.30 pycurl==7.19.5 Pygments==2.0.2 pyparsing==2.0.3 pytest==2.7.2 python-dateutil==2.4.2 pytz==2015.4 pyzmq==14.7.0 setuptools==18.2 simplegeneric==0.8.1 six==1.9.0 terminado==0.5 tornado==4.2.1 traceback2==1.4.0 traitlets==4.0.0 unittest2==1.1.0 wheel==0.24.0'"
      ]
     },
     "execution_count": 10,
     "metadata": {},
     "output_type": "execute_result"
    }
   ],
   "source": [
    "# On the old version to get installed packages\n",
    "%require"
   ]
  },
  {
   "cell_type": "code",
   "execution_count": 9,
   "metadata": {
    "button": false,
    "collapsed": true,
    "deletable": true,
    "run_control": {
     "read_only": false
    }
   },
   "outputs": [],
   "source": [
    "# On the fresh new copy of Pineapple\n",
    "# Paste everything in between the single quotes\n",
    "%require Cython==0.23.1 decorator==4.0.2 ipykernel==4.0.3 ipython==4.0.0 ipython-genutils==0.1.0 IVisual-alt==0.2.3 Jinja2==2.8 jsonschema==2.5.1 jupyter-client==4.0.0 jupyter-core==4.0.4 linecache2==1.0.0 MarkupSafe==0.23 matplotlib==1.4.3 mistune==0.7.1 nbconvert==4.0.0 nbformat==4.0.0 nose==1.3.7 notebook==4.0.4 path.py==8.1 pexpect==3.3 pickleshare==0.5 pineapple==0.4 pip==7.1.2 ptyprocess==0.5 py==1.4.30 pycurl==7.19.5 Pygments==2.0.2 pyparsing==2.0.3 pytest==2.7.2 python-dateutil==2.4.2 pytz==2015.4 pyzmq==14.7.0 setuptools==18.2 simplegeneric==0.8.1 six==1.9.0 terminado==0.5 tornado==4.2.1 traceback2==1.4.0 traitlets==4.0.0 unittest2==1.1.0 wheel==0.24.0"
   ]
  },
  {
   "cell_type": "markdown",
   "metadata": {
    "button": false,
    "deletable": true,
    "run_control": {
     "read_only": false
    }
   },
   "source": [
    "You may need to remove packages that do not have version number, such as numpy in this example which you know are already present in the new copy of Pineapple."
   ]
  },
  {
   "cell_type": "markdown",
   "metadata": {
    "button": false,
    "deletable": true,
    "run_control": {
     "read_only": false
    }
   },
   "source": [
    "----"
   ]
  }
 ],
 "metadata": {
  "kernelspec": {
   "display_name": "Python 3",
   "language": "python",
   "name": "python3"
  },
  "language_info": {
   "codemirror_mode": {
    "name": "ipython",
    "version": 3
   },
   "file_extension": ".py",
   "mimetype": "text/x-python",
   "name": "python",
   "nbconvert_exporter": "python",
   "pygments_lexer": "ipython3",
   "version": "3.5.0"
  }
 },
 "nbformat": 4,
 "nbformat_minor": 0
}
