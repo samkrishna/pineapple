{
 "cells": [
  {
   "cell_type": "markdown",
   "metadata": {
    "button": false,
    "deletable": true,
    "run_control": {
     "read_only": false
    }
   },
   "source": [
    "# Timing\n",
    "\n",
    "Notebooks are an ideal way to play around with performance tuning.\n",
    "\n",
    "In this example we'll compare three different ways of counting the\n",
    "number of words in a string."
   ]
  },
  {
   "cell_type": "code",
   "execution_count": 1,
   "metadata": {
    "button": false,
    "collapsed": false,
    "deletable": true,
    "run_control": {
     "read_only": false
    }
   },
   "outputs": [],
   "source": [
    "# Setup sample data\n",
    "import random, string\n",
    "\n",
    "def randomword():\n",
    "    return ''.join([random.choice(string.ascii_lowercase) for \n",
    "                    _ in range(random.randrange(1, 8))])\n",
    "\n",
    "sample = ' '.join([randomword() for _ in range(10000)]);"
   ]
  },
  {
   "cell_type": "code",
   "execution_count": 2,
   "metadata": {
    "button": false,
    "collapsed": false,
    "deletable": true,
    "run_control": {
     "read_only": false
    }
   },
   "outputs": [
    {
     "name": "stdout",
     "output_type": "stream",
     "text": [
      "1000 loops, best of 3: 743 µs per loop\n"
     ]
    }
   ],
   "source": [
    "# Method one\n",
    "def count(txt):\n",
    "    return len(txt.split())\n",
    "\n",
    "%timeit count(sample)"
   ]
  },
  {
   "cell_type": "code",
   "execution_count": 3,
   "metadata": {
    "button": false,
    "collapsed": false,
    "deletable": true,
    "run_control": {
     "read_only": false
    }
   },
   "outputs": [
    {
     "name": "stdout",
     "output_type": "stream",
     "text": [
      "1000 loops, best of 3: 894 µs per loop\n"
     ]
    }
   ],
   "source": [
    "# Method two\n",
    "import re\n",
    "def count2(txt):\n",
    "    return len(re.findall(r' ', txt))\n",
    "\n",
    "%timeit count2(sample)"
   ]
  },
  {
   "cell_type": "code",
   "execution_count": 4,
   "metadata": {
    "button": false,
    "collapsed": false,
    "deletable": true,
    "run_control": {
     "read_only": false
    }
   },
   "outputs": [
    {
     "name": "stdout",
     "output_type": "stream",
     "text": [
      "100 loops, best of 3: 3.88 ms per loop\n"
     ]
    }
   ],
   "source": [
    "# Method three\n",
    "def count3(txt):\n",
    "    count = 1\n",
    "    for i in txt:\n",
    "        if i == ' ':\n",
    "            count += 1\n",
    "\n",
    "%timeit count3(sample)"
   ]
  },
  {
   "cell_type": "markdown",
   "metadata": {
    "button": false,
    "deletable": true,
    "run_control": {
     "read_only": false
    }
   },
   "source": [
    "## Conclusion\n",
    "\n",
    "The `%timeit` magic invocation is a convenient way to quickly test\n",
    "function performance."
   ]
  },
  {
   "cell_type": "markdown",
   "metadata": {
    "button": false,
    "deletable": true,
    "run_control": {
     "read_only": false
    }
   },
   "source": [
    "----"
   ]
  }
 ],
 "metadata": {
  "kernelspec": {
   "display_name": "Python 3",
   "language": "python",
   "name": "python3"
  },
  "language_info": {
   "codemirror_mode": {
    "name": "ipython",
    "version": 3
   },
   "file_extension": ".py",
   "mimetype": "text/x-python",
   "name": "python",
   "nbconvert_exporter": "python",
   "pygments_lexer": "ipython3",
   "version": "3.5.0"
  }
 },
 "nbformat": 4,
 "nbformat_minor": 0
}
