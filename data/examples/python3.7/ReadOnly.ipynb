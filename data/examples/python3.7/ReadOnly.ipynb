{
 "cells": [
  {
   "cell_type": "markdown",
   "metadata": {
    "button": false,
    "deletable": true,
    "run_control": {
     "read_only": false
    }
   },
   "source": [
    "# Read Only\n",
    "\n",
    "Pineapple includes the \"read-only\" notebook extension built-in. This extension allows you to mark cells as read-only. When a cell is marked read-only it cannot be changed until the read-only is turned off.\n",
    "\n",
    "## Philosophy\n",
    "\n",
    "Marking cells as read-only doesn't actually make them permanent or unchangeable. The point is to mark which parts of a notebook are intended to be edited and which parts are intended to be left alone. For example, a notebook could be used to represent an assignment in a class. Introduction cells could be marked read-only. Examples that are intended to be changed for experimentation could not be marked read-only. Description of the problem to be solved could be marked read-only."
   ]
  },
  {
   "cell_type": "markdown",
   "metadata": {
    "button": false,
    "deletable": true,
    "run_control": {
     "read_only": false
    }
   },
   "source": [
    "## Behavior\n",
    "\n",
    "Cells that are marked read-only cannot be edited. Markdown cells that are rendered cannot be changed to edit mode by double-clicking. Code cells cannot be edited but can be executed. Cells that are read-only cannot be deleted or moved.\n",
    "\n",
    "To toggle a cell read-only and not read-only, choose the menu item ``Cell - Toggle read-only``.\n",
    "\n",
    "## Appearance\n",
    "\n",
    "Cells that are read-only will usually have a distinct visual element. The precise appearance depends on the theme chosen. The \"None\" theme has no markings for read-only cells. \"Light\", \"Dark\", and \"Borlandia\" use a stripe pattern to mark code cells that are read-only. In \"Light\" and \"Dark\", rendered Markdown cells show the stripe pattern to indicate read-only when the cell is selected. The \"Borlandia\" theme uses different colored selection boxes to indicate when rendered Markdown cells are read-only.\n",
    "\n",
    "Try changing the theme of this notebook to see the effects."
   ]
  },
  {
   "cell_type": "code",
   "execution_count": 2,
   "metadata": {
    "button": false,
    "collapsed": false,
    "deletable": true,
    "run_control": {
     "read_only": false
    }
   },
   "outputs": [
    {
     "data": {
      "text/plain": [
       "3"
      ]
     },
     "execution_count": 2,
     "metadata": {},
     "output_type": "execute_result"
    }
   ],
   "source": [
    "## This a normal code cell\n",
    "def f(x):\n",
    "    return x\n",
    "\n",
    "f(3)"
   ]
  },
  {
   "cell_type": "code",
   "execution_count": 1,
   "metadata": {
    "button": false,
    "collapsed": false,
    "deletable": false,
    "run_control": {
     "read_only": true
    }
   },
   "outputs": [
    {
     "data": {
      "text/plain": [
       "10"
      ]
     },
     "execution_count": 1,
     "metadata": {},
     "output_type": "execute_result"
    }
   ],
   "source": [
    "## This a read-only code cell\n",
    "def f(x):\n",
    "    return x\n",
    "\n",
    "f(10)"
   ]
  },
  {
   "cell_type": "markdown",
   "metadata": {
    "button": false,
    "deletable": true,
    "run_control": {
     "read_only": false
    }
   },
   "source": [
    "### Normal\n",
    "\n",
    "This is a normal text cell with Markdown text. It can be edited, deleted, and moved."
   ]
  },
  {
   "cell_type": "markdown",
   "metadata": {
    "button": false,
    "deletable": false,
    "run_control": {
     "read_only": true
    }
   },
   "source": [
    "### Read-only\n",
    "\n",
    "This is a read-only text cell that cannot be edited unless you toggle off read-only."
   ]
  },
  {
   "cell_type": "markdown",
   "metadata": {
    "button": false,
    "deletable": true,
    "run_control": {
     "read_only": false
    }
   },
   "source": [
    "----"
   ]
  }
 ],
 "metadata": {
  "kernelspec": {
   "display_name": "Python 3",
   "language": "python",
   "name": "python3"
  },
  "language_info": {
   "codemirror_mode": {
    "name": "ipython",
    "version": 3
   },
   "file_extension": ".py",
   "mimetype": "text/x-python",
   "name": "python",
   "nbconvert_exporter": "python",
   "pygments_lexer": "ipython3",
   "version": "3.5.0"
  }
 },
 "nbformat": 4,
 "nbformat_minor": 0
}
